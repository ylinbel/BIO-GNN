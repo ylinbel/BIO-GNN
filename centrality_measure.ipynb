{
 "cells": [
  {
   "cell_type": "code",
   "execution_count": 1,
   "metadata": {},
   "outputs": [],
   "source": [
    "import networkx as nx\n",
    "import numpy as np\n",
    "from scipy.sparse.csgraph import floyd_warshall\n",
    "import scipy.io\n"
   ]
  },
  {
   "cell_type": "code",
   "execution_count": 17,
   "metadata": {},
   "outputs": [],
   "source": [
    "# asd\n",
    "\n",
    "\n",
    "# nc = np.load('./output/ad_r_test_0409/fold4_cbt.npy')\n",
    "# adhd = np.load('./output/ADHD_THREE_LOSS_TRAIN/fold4_cbt.npy')\n",
    "# lmci = np.load('./output/LMCI_THREE_LOSS_TRAIN/fold4_cbt.npy')\n",
    "ad = np.load('./output_store/ad_L_0402/fold4_cbt.npy')  "
   ]
  },
  {
   "cell_type": "code",
   "execution_count": 20,
   "metadata": {},
   "outputs": [],
   "source": [
    "def information_centrality(cbt):\n",
    "    dist_matrix = floyd_warshall(cbt, directed=False)\n",
    "    dist_matrix[dist_matrix == np.inf] = 0\n",
    "\n",
    "    # Calculate the information centrality for each node\n",
    "    n_nodes = cbt.shape[0]\n",
    "    info_centrality = np.zeros(n_nodes)\n",
    "\n",
    "    for i in range(n_nodes):\n",
    "        # Exclude self-loops\n",
    "        valid_distances = dist_matrix[i][dist_matrix[i] > 0]\n",
    "        \n",
    "        # Harmonic mean of distances for node i\n",
    "        if valid_distances.size > 0:\n",
    "            info_centrality[i] = 1 / np.mean(1 / valid_distances)\n",
    "            \n",
    "    return info_centrality"
   ]
  },
  {
   "cell_type": "code",
   "execution_count": 21,
   "metadata": {},
   "outputs": [
    {
     "data": {
      "text/plain": [
       "array([0.06173058, 0.09644106, 0.05546535, 0.05361756, 0.05697403,\n",
       "       0.08925149, 0.02875332, 0.03214803, 0.03055761, 0.03101071,\n",
       "       0.04145549, 0.02683333, 0.04337316, 0.04285124, 0.03104786,\n",
       "       0.03808175, 0.02904036, 0.02848765, 0.03428786, 0.02954236,\n",
       "       0.08768222, 0.04356448, 0.03794577, 0.02776557, 0.03196492,\n",
       "       0.04898178, 0.03467098, 0.0277535 , 0.03549779, 0.03083499,\n",
       "       0.02975248, 0.05320429, 0.0532043 , 0.04739563, 0.06562564])"
      ]
     },
     "execution_count": 21,
     "metadata": {},
     "output_type": "execute_result"
    }
   ],
   "source": [
    "information_centrality(ad)"
   ]
  },
  {
   "cell_type": "code",
   "execution_count": 22,
   "metadata": {},
   "outputs": [],
   "source": [
    "def laplacian_centrality(cbt):\n",
    "    total_degree_sum = np.sum(cbt)\n",
    "    n=35\n",
    "\n",
    "    # Corrected Laplacian centrality calculation, focusing on non-negative contributions\n",
    "    C_Laplacian_corrected = np.zeros(n)\n",
    "\n",
    "    for i in range(n):\n",
    "        # Directly using degree might already ensure non-negativity but let's ensure the calculation is clearly non-negative\n",
    "        C_Laplacian_corrected[i] = np.sum(cbt[i]) / total_degree_sum\n",
    "        \n",
    "        \n",
    "    return C_Laplacian_corrected"
   ]
  },
  {
   "cell_type": "code",
   "execution_count": 23,
   "metadata": {},
   "outputs": [
    {
     "data": {
      "text/plain": [
       "array([0.03648186, 0.05579307, 0.03356978, 0.03468634, 0.03521464,\n",
       "       0.05154989, 0.02170198, 0.02241223, 0.02282118, 0.0223278 ,\n",
       "       0.02661715, 0.02166558, 0.02682552, 0.027132  , 0.02331076,\n",
       "       0.02534875, 0.02190739, 0.02170893, 0.02338143, 0.02181914,\n",
       "       0.05056508, 0.02682487, 0.02519499, 0.02174788, 0.02197645,\n",
       "       0.03051837, 0.02386608, 0.02227584, 0.02320823, 0.02343618,\n",
       "       0.02175309, 0.03242483, 0.03242484, 0.02911962, 0.03838831])"
      ]
     },
     "execution_count": 23,
     "metadata": {},
     "output_type": "execute_result"
    }
   ],
   "source": [
    "laplacian_centrality(ad)"
   ]
  },
  {
   "cell_type": "code",
   "execution_count": 33,
   "metadata": {},
   "outputs": [],
   "source": [
    "def node_strengths(adjacency_matrix):\n",
    "    node_strengths = np.sum(adjacency_matrix, axis=1)\n",
    "    return node_strengths"
   ]
  },
  {
   "cell_type": "code",
   "execution_count": 34,
   "metadata": {},
   "outputs": [
    {
     "data": {
      "text/plain": [
       "array([2.1935492, 3.3546765, 2.0184538, 2.0855894, 2.1173546, 3.099546 ,\n",
       "       1.3048776, 1.3475828, 1.3721715, 1.3425062, 1.6004126, 1.3026886,\n",
       "       1.6129413, 1.6313691, 1.4016085, 1.5241472, 1.3172278, 1.3052955,\n",
       "       1.4058577, 1.3119218, 3.0403323, 1.6129019, 1.5149019, 1.307637 ,\n",
       "       1.3213804, 1.8349812, 1.4349983, 1.3393818, 1.3954437, 1.4091499,\n",
       "       1.3079504, 1.9496117, 1.9496119, 1.7508788, 2.3081782],\n",
       "      dtype=float32)"
      ]
     },
     "execution_count": 34,
     "metadata": {},
     "output_type": "execute_result"
    }
   ],
   "source": [
    "node_strengths(ad)"
   ]
  },
  {
   "cell_type": "code",
   "execution_count": 24,
   "metadata": {},
   "outputs": [],
   "source": [
    "def calculate_eigenvector_centrality(matrix, max_iter=100, tol=1.0e-6):\n",
    "    n = matrix.shape[0]\n",
    "    # Initialize the eigenvector with equal values (e.g., 1/n)\n",
    "    x = np.ones(n) / n\n",
    "    \n",
    "    # Normalize the matrix by its largest absolute eigenvalue to ensure convergence\n",
    "    eigenvalues, _ = np.linalg.eig(matrix)\n",
    "    lambda_max = np.max(np.abs(eigenvalues))\n",
    "    A_norm = matrix / lambda_max\n",
    "    \n",
    "    # Power iteration: repeatedly update the eigenvector estimate\n",
    "    for _ in range(max_iter):\n",
    "        x_next = A_norm.dot(x)\n",
    "        x_next /= np.linalg.norm(x_next)  # Normalize the vector\n",
    "        \n",
    "        # Check for convergence\n",
    "        if np.linalg.norm(x_next - x) < tol:\n",
    "            break\n",
    "        x = x_next\n",
    "    \n",
    "    return x"
   ]
  },
  {
   "cell_type": "code",
   "execution_count": 27,
   "metadata": {},
   "outputs": [
    {
     "data": {
      "text/plain": [
       "array([0.20130963, 0.29076956, 0.18817331, 0.19168799, 0.19245245,\n",
       "       0.27524268, 0.13220327, 0.13510954, 0.13798453, 0.13599833,\n",
       "       0.15264579, 0.13325328, 0.15110386, 0.15770729, 0.14034796,\n",
       "       0.14959036, 0.13380285, 0.13329324, 0.14044639, 0.13322882,\n",
       "       0.26398768, 0.15044152, 0.14801472, 0.13316843, 0.1324338 ,\n",
       "       0.17382534, 0.14329804, 0.13680594, 0.13659872, 0.14111502,\n",
       "       0.13316597, 0.18006538, 0.18006539, 0.16767757, 0.21092993])"
      ]
     },
     "execution_count": 27,
     "metadata": {},
     "output_type": "execute_result"
    }
   ],
   "source": [
    "calculate_eigenvector_centrality(ad)"
   ]
  },
  {
   "cell_type": "code",
   "execution_count": 3,
   "metadata": {},
   "outputs": [],
   "source": [
    "def normalize_matrix(connectivity_matrix):\n",
    "    np.fill_diagonal(connectivity_matrix, 0)\n",
    "    connectivity_matrix[np.logical_or(np.isinf(connectivity_matrix), np.isnan(connectivity_matrix))] = 0\n",
    "    connectivity_matrix = connectivity_matrix.astype(float)\n",
    "    \n",
    "    return connectivity_matrix"
   ]
  },
  {
   "cell_type": "code",
   "execution_count": 16,
   "metadata": {},
   "outputs": [],
   "source": [
    "connectivity_matrices_asd = []\n",
    "\n",
    "for i in range(1, 155):\n",
    "    mat = scipy.io.loadmat(f'data_nc_asd_L/data_nc_asd_L/ASD_LH/LHASDSub{i}.mat')\n",
    "    connectivity_matrix = mat['views'][:, :, :]\n",
    "    connectivity_matrix = [normalize_matrix(mat) for mat in connectivity_matrix]\n",
    "    connectivity_matrices_asd.append(connectivity_matrix)\n",
    "\n",
    "connectivity_matrices_asd = np.stack(connectivity_matrices_asd)\n",
    "\n",
    "connectivity_matrices_control = []\n",
    "\n",
    "for i in range(1, 186):\n",
    "    mat = scipy.io.loadmat(f'data_nc_asd_L/data_nc_asd_L/NC_LH/LHNCSub{i}.mat')\n",
    "    connectivity_matrix = mat['views'][:, :, :]\n",
    "    connectivity_matrix = [normalize_matrix(mat) for mat in connectivity_matrix]\n",
    "    connectivity_matrices_control.append(connectivity_matrix)\n",
    "\n",
    "connectivity_matrices_control = np.stack(connectivity_matrices_control)\n"
   ]
  },
  {
   "cell_type": "code",
   "execution_count": 19,
   "metadata": {},
   "outputs": [],
   "source": [
    "connectivity_matrices_asd = []\n",
    "\n",
    "for i in range(1, 155):\n",
    "    mat = scipy.io.loadmat(f'data_nc_asd_R/data_nc_asd_R/ASD_RH/RHASDSub{i}.mat')\n",
    "    connectivity_matrix = mat['views'][:, :, :]\n",
    "    connectivity_matrix = [normalize_matrix(mat) for mat in connectivity_matrix]\n",
    "    connectivity_matrices_asd.append(connectivity_matrix)\n",
    "\n",
    "connectivity_matrices_asd = np.stack(connectivity_matrices_asd)\n",
    "\n",
    "connectivity_matrices_control = []\n",
    "\n",
    "for i in range(1, 186):\n",
    "    mat = scipy.io.loadmat(f'data_nc_asd_R/data_nc_asd_R/NC_RH/RHNCSub{i}.mat')\n",
    "    connectivity_matrix = mat['views'][:, :, :]\n",
    "    connectivity_matrix = [normalize_matrix(mat) for mat in connectivity_matrix]\n",
    "    connectivity_matrices_control.append(connectivity_matrix)\n",
    "\n",
    "connectivity_matrices_control = np.stack(connectivity_matrices_control)\n"
   ]
  },
  {
   "cell_type": "code",
   "execution_count": 22,
   "metadata": {},
   "outputs": [],
   "source": [
    "connectivity_matrices_ad = []\n",
    "\n",
    "for i in range(1, 42):\n",
    "    mat = scipy.io.loadmat(f'data_ad_lmci_R/data_ad_lmci_R/AD_RH/subject{i}.mat')\n",
    "    connectivity_matrix = mat['A'][:, :, :]\n",
    "    connectivity_matrix = [normalize_matrix(mat) for mat in connectivity_matrix]\n",
    "    connectivity_matrices_ad.append(connectivity_matrix)\n",
    "\n",
    "connectivity_matrices_ad = np.stack(connectivity_matrices_ad)\n",
    "\n",
    "connectivity_matrices_lmci = []\n",
    "\n",
    "for i in range(42, 78):\n",
    "    mat = scipy.io.loadmat(f'data_ad_lmci_R/data_ad_lmci_R/LMCI_RH/subject{i}.mat')\n",
    "    connectivity_matrix = mat['A'][:, :, :]\n",
    "    connectivity_matrix = [normalize_matrix(mat) for mat in connectivity_matrix]\n",
    "    connectivity_matrices_lmci.append(connectivity_matrix)\n",
    "\n",
    "connectivity_matrices_lmci = np.stack(connectivity_matrices_lmci)\n"
   ]
  },
  {
   "cell_type": "code",
   "execution_count": 27,
   "metadata": {},
   "outputs": [],
   "source": [
    "connectivity_matrices_ad = []\n",
    "\n",
    "for i in range(1, 42):\n",
    "    mat = scipy.io.loadmat(f'data_ad_lmci_L/data_ad_lmci_L/AD_LH/subject{i}.mat')\n",
    "    connectivity_matrix = mat['A'][:, :, :]\n",
    "    connectivity_matrix = [normalize_matrix(mat) for mat in connectivity_matrix]\n",
    "    connectivity_matrices_ad.append(connectivity_matrix)\n",
    "\n",
    "connectivity_matrices_ad = np.stack(connectivity_matrices_ad)\n",
    "\n",
    "connectivity_matrices_lmci = []\n",
    "\n",
    "for i in range(42, 78):\n",
    "    mat = scipy.io.loadmat(f'data_ad_lmci_L/data_ad_lmci_L/LMCI_LH/subject{i}.mat')\n",
    "    connectivity_matrix = mat['A'][:, :, :]\n",
    "    connectivity_matrix = [normalize_matrix(mat) for mat in connectivity_matrix]\n",
    "    connectivity_matrices_lmci.append(connectivity_matrix)\n",
    "\n",
    "connectivity_matrices_lmci = np.stack(connectivity_matrices_lmci)\n"
   ]
  },
  {
   "cell_type": "code",
   "execution_count": 28,
   "metadata": {},
   "outputs": [],
   "source": [
    "ground_truth_nc_l_list = np.mean(connectivity_matrices_ad, axis=0)\n",
    "ground_truth_nc_l = np.mean(ground_truth_nc_l_list, axis=2)\n",
    "np.save('ground_truth_ad_l', ground_truth_nc_l)"
   ]
  },
  {
   "cell_type": "code",
   "execution_count": 29,
   "metadata": {},
   "outputs": [],
   "source": [
    "ground_truth_nc_l_list = np.mean(connectivity_matrices_lmci, axis=0)\n",
    "ground_truth_nc_l = np.mean(ground_truth_nc_l_list, axis=2)\n",
    "np.save('ground_truth_lmci_l', ground_truth_nc_l)"
   ]
  },
  {
   "cell_type": "code",
   "execution_count": null,
   "metadata": {},
   "outputs": [],
   "source": []
  }
 ],
 "metadata": {
  "kernelspec": {
   "display_name": "Python 3",
   "language": "python",
   "name": "python3"
  },
  "language_info": {
   "codemirror_mode": {
    "name": "ipython",
    "version": 3
   },
   "file_extension": ".py",
   "mimetype": "text/x-python",
   "name": "python",
   "nbconvert_exporter": "python",
   "pygments_lexer": "ipython3",
   "version": "3.11.3"
  }
 },
 "nbformat": 4,
 "nbformat_minor": 2
}
