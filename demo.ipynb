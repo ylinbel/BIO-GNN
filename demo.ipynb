{
 "cells": [
  {
   "cell_type": "code",
   "execution_count": 14,
   "metadata": {},
   "outputs": [],
   "source": [
    "import warnings\n",
    "import numpy as np\n",
    "from model import BIO_GNN\n",
    "import matplotlib.pyplot as plt\n",
    "import torch.nn\n",
    "import scipy\n",
    "\n",
    "plt.rcParams['font.family'] = 'serif'\n",
    "plt.rcParams['font.serif'] = ['DejaVu Serif', 'Arial', 'Liberation Serif']"
   ]
  },
  {
   "cell_type": "markdown",
   "metadata": {},
   "source": [
    "#### 1. inspect"
   ]
  },
  {
   "cell_type": "markdown",
   "metadata": {},
   "source": [
    "#### 2. data preprocessing"
   ]
  },
  {
   "cell_type": "code",
   "execution_count": 15,
   "metadata": {},
   "outputs": [],
   "source": [
    "def normalize_matrix(connectivity_matrix):\n",
    "    np.fill_diagonal(connectivity_matrix, 0)\n",
    "    connectivity_matrix[np.logical_or(np.isinf(connectivity_matrix), np.isnan(connectivity_matrix))] = 0\n",
    "    connectivity_matrix = connectivity_matrix.astype(float)\n",
    "    \n",
    "    return connectivity_matrix"
   ]
  },
  {
   "cell_type": "code",
   "execution_count": 16,
   "metadata": {},
   "outputs": [],
   "source": [
    "connectivity_matrices_asd = []\n",
    "\n",
    "for i in range(1, 42):\n",
    "    mat = scipy.io.loadmat(f'data_ad_lmci_L/data_ad_lmci_L/AD_LH/subject{i}.mat')\n",
    "    connectivity_matrix = mat['A'][:, :, :]\n",
    "    connectivity_matrix = [normalize_matrix(mat) for mat in connectivity_matrix]\n",
    "    connectivity_matrices_asd.append(connectivity_matrix)\n",
    "\n",
    "connectivity_matrices_asd = np.stack(connectivity_matrices_asd)\n",
    "\n"
   ]
  },
  {
   "cell_type": "code",
   "execution_count": 18,
   "metadata": {},
   "outputs": [],
   "source": [
    "Dataset = \"E\" \n",
    "N_Subjects = 155\n",
    "N_Nodes = 35\n",
    "N_views = 6\n",
    "N_max_epochs = 500\n",
    "early_stop =  True\n",
    "random_sample_size = 10\n",
    "n_folds = 5\n",
    "lr = 0.005\n",
    "model_name = \"demo\"\n",
    "CONV1 = CONV2 = CONV3 = 8\n",
    "\n",
    "lambda_r = 0\n",
    "lambda_b = 5\n",
    "patience = 3\n",
    "convergence_threshold = 0.01    \n",
    "\n",
    "X = connectivity_matrices_asd\n",
    "N_Subjects = X.shape[0]\n",
    "N_Nodes = X.shape[1]\n",
    "N_views = X.shape[3]\n",
    "\n",
    "\n",
    "CONFIG = {\n",
    "        \"X\": X,\n",
    "        \"N_ROIs\":  X.shape[1],\n",
    "        \"N_views\":  X.shape[3],\n",
    "        \"N_max_epochs\": N_max_epochs,\n",
    "        \"n_folds\": n_folds,\n",
    "        \"random_sample_size\": random_sample_size,\n",
    "        \"early_stop\": early_stop,\n",
    "        \"model_name\": model_name\n",
    "    }\n",
    "\n",
    "MODEL_PARAMS = {\n",
    "        \"N_ROIs\": N_Nodes,\n",
    "        \"learning_rate\" : lr,\n",
    "        \"n_attr\": X.shape[3],\n",
    "        \"Linear1\" : {\"in\": N_views, \"out\": CONV1},\n",
    "        \"conv1\": {\"in\" : 1, \"out\": CONV1},\n",
    "        \n",
    "        \"Linear2\" : {\"in\": N_views, \"out\": CONV1*CONV2},\n",
    "        \"conv2\": {\"in\" : CONV1, \"out\": CONV2},\n",
    "        \n",
    "        \"Linear3\" : {\"in\": N_views, \"out\": CONV2*CONV3},\n",
    "        \"conv3\": {\"in\" : CONV2, \"out\": CONV3},\n",
    "        \"lambda_r\" : lambda_r,\n",
    "        \"lambda_b\" : lambda_b,\n",
    "        \"patience\" : patience,\n",
    "        \"convergence_threshold\" : convergence_threshold,\n",
    "    }"
   ]
  },
  {
   "cell_type": "code",
   "execution_count": 19,
   "metadata": {},
   "outputs": [
    {
     "name": "stdout",
     "output_type": "stream",
     "text": [
      "lambda r 0.0 lambda b 5.0\n",
      "********* FOLD 0 *********\n",
      "Epoch: 0  |  cbt loss : 48.69 | reservoir loss : 0.0000 | bio loss : 0.49673 | total loss: 51.17 | median cbt mc 9.55 | Time Elapsed: 11.99 | \n",
      "Epoch: 10  |  cbt loss : 15.92 | reservoir loss : 0.0000 | bio loss : 0.54362 | total loss: 18.64 | median cbt mc 9.50 | Time Elapsed: 21.49 | \n",
      "Epoch: 20  |  cbt loss : 12.73 | reservoir loss : 0.0000 | bio loss : 0.32483 | total loss: 14.35 | median cbt mc 10.46 | Time Elapsed: 21.46 | \n",
      "Epoch: 30  |  cbt loss : 12.19 | reservoir loss : 0.0000 | bio loss : 0.30508 | total loss: 13.72 | median cbt mc 10.43 | Time Elapsed: 21.57 | \n",
      "Epoch: 40  |  cbt loss : 12.16 | reservoir loss : 0.0000 | bio loss : 0.30457 | total loss: 13.68 | median cbt mc 10.43 | Time Elapsed: 83.64 | \n",
      "Epoch: 50  |  cbt loss : 12.29 | reservoir loss : 0.0000 | bio loss : 0.30489 | total loss: 13.81 | median cbt mc 10.43 | Time Elapsed: 82.13 | \n",
      "Epoch: 60  |  cbt loss : 12.49 | reservoir loss : 0.0000 | bio loss : 0.30305 | total loss: 14.00 | median cbt mc 10.43 | Time Elapsed: 81.73 | \n",
      "Early Stopping\n",
      "FINAL RESULTS  REP: 12.487088203430176, RESERVOIR LOSS: 0.08302844315767288, BIOLOGICAL LOSS: 0.3705277442932129, MEMORY FINGERPRINT: 10.420457980899364\n",
      "********* FOLD 1 *********\n",
      "Epoch: 0  |  cbt loss : 85.44 | reservoir loss : 0.0000 | bio loss : 0.40507 | total loss: 87.46 | median cbt mc 9.53 | Time Elapsed: 48.28 | \n",
      "Epoch: 10  |  cbt loss : 19.77 | reservoir loss : 0.0000 | bio loss : 0.44168 | total loss: 21.98 | median cbt mc 10.47 | Time Elapsed: 85.76 | \n",
      "Epoch: 20  |  cbt loss : 13.08 | reservoir loss : 0.0000 | bio loss : 0.43247 | total loss: 15.24 | median cbt mc 10.46 | Time Elapsed: 85.98 | \n",
      "Epoch: 30  |  cbt loss : 12.44 | reservoir loss : 0.0000 | bio loss : 0.41015 | total loss: 14.49 | median cbt mc 10.44 | Time Elapsed: 83.79 | \n",
      "Epoch: 40  |  cbt loss : 12.21 | reservoir loss : 0.0000 | bio loss : 0.40988 | total loss: 14.26 | median cbt mc 10.44 | Time Elapsed: 36.95 | \n",
      "Epoch: 50  |  cbt loss : 12.38 | reservoir loss : 0.0000 | bio loss : 0.40175 | total loss: 14.38 | median cbt mc 10.43 | Time Elapsed: 37.47 | \n",
      "Epoch: 60  |  cbt loss : 12.35 | reservoir loss : 0.0000 | bio loss : 0.37912 | total loss: 14.25 | median cbt mc 10.40 | Time Elapsed: 22.08 | \n",
      "Epoch: 70  |  cbt loss : 12.44 | reservoir loss : 0.0000 | bio loss : 0.38709 | total loss: 14.37 | median cbt mc 10.41 | Time Elapsed: 52.10 | \n",
      "Epoch: 80  |  cbt loss : 12.45 | reservoir loss : 0.0000 | bio loss : 0.38079 | total loss: 14.36 | median cbt mc 10.41 | Time Elapsed: 22.79 | \n",
      "Epoch: 90  |  cbt loss : 12.48 | reservoir loss : 0.0000 | bio loss : 0.39265 | total loss: 14.44 | median cbt mc 10.42 | Time Elapsed: 27.52 | \n",
      "Epoch: 100  |  cbt loss : 12.49 | reservoir loss : 0.0000 | bio loss : 0.38217 | total loss: 14.40 | median cbt mc 10.41 | Time Elapsed: 24.81 | \n",
      "Epoch: 110  |  cbt loss : 12.51 | reservoir loss : 0.0000 | bio loss : 0.38182 | total loss: 14.41 | median cbt mc 10.41 | Time Elapsed: 22.53 | \n",
      "Epoch: 120  |  cbt loss : 12.52 | reservoir loss : 0.0000 | bio loss : 0.38767 | total loss: 14.46 | median cbt mc 10.41 | Time Elapsed: 38.15 | \n",
      "Early Stopping\n",
      "FINAL RESULTS  REP: 12.516704559326172, RESERVOIR LOSS: 0.08302842825651169, BIOLOGICAL LOSS: 0.22815823554992676, MEMORY FINGERPRINT: 10.416152337722467\n",
      "********* FOLD 2 *********\n",
      "Epoch: 0  |  cbt loss : 35.77 | reservoir loss : 0.0000 | bio loss : 0.46058 | total loss: 38.07 | median cbt mc 9.55 | Time Elapsed: 22.38 | \n",
      "Epoch: 10  |  cbt loss : 12.66 | reservoir loss : 0.0000 | bio loss : 0.35378 | total loss: 14.43 | median cbt mc 10.47 | Time Elapsed: 21.82 | \n",
      "Epoch: 20  |  cbt loss : 12.42 | reservoir loss : 0.0000 | bio loss : 0.34611 | total loss: 14.15 | median cbt mc 10.46 | Time Elapsed: 22.49 | \n",
      "Epoch: 30  |  cbt loss : 12.59 | reservoir loss : 0.0000 | bio loss : 0.33659 | total loss: 14.27 | median cbt mc 10.44 | Time Elapsed: 22.39 | \n",
      "Epoch: 40  |  cbt loss : 12.55 | reservoir loss : 0.0000 | bio loss : 0.33968 | total loss: 14.25 | median cbt mc 10.45 | Time Elapsed: 22.52 | \n",
      "Epoch: 50  |  cbt loss : 12.61 | reservoir loss : 0.0000 | bio loss : 0.34249 | total loss: 14.32 | median cbt mc 10.45 | Time Elapsed: 22.41 | \n",
      "Epoch: 60  |  cbt loss : 12.60 | reservoir loss : 0.0000 | bio loss : 0.31678 | total loss: 14.18 | median cbt mc 10.42 | Time Elapsed: 23.22 | \n",
      "Epoch: 70  |  cbt loss : 12.60 | reservoir loss : 0.0000 | bio loss : 0.34550 | total loss: 14.32 | median cbt mc 10.46 | Time Elapsed: 22.57 | \n",
      "Epoch: 80  |  cbt loss : 12.57 | reservoir loss : 0.0000 | bio loss : 0.34082 | total loss: 14.28 | median cbt mc 10.45 | Time Elapsed: 22.42 | \n",
      "Epoch: 90  |  cbt loss : 12.56 | reservoir loss : 0.0000 | bio loss : 0.36529 | total loss: 14.38 | median cbt mc 10.48 | Time Elapsed: 21.55 | \n",
      "Epoch: 100  |  cbt loss : 12.55 | reservoir loss : 0.0000 | bio loss : 0.35460 | total loss: 14.32 | median cbt mc 10.47 | Time Elapsed: 63.86 | \n",
      "Epoch: 110  |  cbt loss : 12.54 | reservoir loss : 0.0000 | bio loss : 0.33051 | total loss: 14.20 | median cbt mc 10.44 | Time Elapsed: 91.08 | \n"
     ]
    },
    {
     "ename": "KeyboardInterrupt",
     "evalue": "",
     "output_type": "error",
     "traceback": [
      "\u001b[1;31m---------------------------------------------------------------------------\u001b[0m",
      "\u001b[1;31mKeyboardInterrupt\u001b[0m                         Traceback (most recent call last)",
      "Cell \u001b[1;32mIn[19], line 3\u001b[0m\n\u001b[0;32m      1\u001b[0m np\u001b[38;5;241m.\u001b[39mrandom\u001b[38;5;241m.\u001b[39mseed(\u001b[38;5;241m35813\u001b[39m)\n\u001b[0;32m      2\u001b[0m torch\u001b[38;5;241m.\u001b[39mmanual_seed(\u001b[38;5;241m35813\u001b[39m)\n\u001b[1;32m----> 3\u001b[0m models \u001b[38;5;241m=\u001b[39m \u001b[43mBIO_GNN\u001b[49m\u001b[38;5;241;43m.\u001b[39;49m\u001b[43mtrain_model\u001b[49m\u001b[43m(\u001b[49m\n\u001b[0;32m      4\u001b[0m \u001b[43m                \u001b[49m\u001b[43mCONFIG\u001b[49m\u001b[43m[\u001b[49m\u001b[38;5;124;43m\"\u001b[39;49m\u001b[38;5;124;43mX\u001b[39;49m\u001b[38;5;124;43m\"\u001b[39;49m\u001b[43m]\u001b[49m\u001b[43m,\u001b[49m\n\u001b[0;32m      5\u001b[0m \u001b[43m                \u001b[49m\u001b[43mmodel_params\u001b[49m\u001b[38;5;241;43m=\u001b[39;49m\u001b[43mMODEL_PARAMS\u001b[49m\u001b[43m,\u001b[49m\n\u001b[0;32m      6\u001b[0m \u001b[43m                \u001b[49m\n\u001b[0;32m      7\u001b[0m \u001b[43m                \u001b[49m\n\u001b[0;32m      8\u001b[0m \u001b[43m                \u001b[49m\u001b[43mn_max_epochs\u001b[49m\u001b[38;5;241;43m=\u001b[39;49m\u001b[43mCONFIG\u001b[49m\u001b[43m[\u001b[49m\u001b[38;5;124;43m\"\u001b[39;49m\u001b[38;5;124;43mN_max_epochs\u001b[39;49m\u001b[38;5;124;43m\"\u001b[39;49m\u001b[43m]\u001b[49m\u001b[43m,\u001b[49m\n\u001b[0;32m      9\u001b[0m \u001b[43m                \u001b[49m\u001b[43mn_folds\u001b[49m\u001b[38;5;241;43m=\u001b[39;49m\u001b[43mCONFIG\u001b[49m\u001b[43m[\u001b[49m\u001b[38;5;124;43m\"\u001b[39;49m\u001b[38;5;124;43mn_folds\u001b[39;49m\u001b[38;5;124;43m\"\u001b[39;49m\u001b[43m]\u001b[49m\u001b[43m,\u001b[49m\n\u001b[0;32m     10\u001b[0m \u001b[43m                \u001b[49m\u001b[43mrandom_sample_size\u001b[49m\u001b[38;5;241;43m=\u001b[39;49m\u001b[43mCONFIG\u001b[49m\u001b[43m[\u001b[49m\u001b[38;5;124;43m\"\u001b[39;49m\u001b[38;5;124;43mrandom_sample_size\u001b[39;49m\u001b[38;5;124;43m\"\u001b[39;49m\u001b[43m]\u001b[49m\u001b[43m,\u001b[49m\n\u001b[0;32m     11\u001b[0m \u001b[43m                \u001b[49m\u001b[43mearly_stop\u001b[49m\u001b[38;5;241;43m=\u001b[39;49m\u001b[43mCONFIG\u001b[49m\u001b[43m[\u001b[49m\u001b[38;5;124;43m\"\u001b[39;49m\u001b[38;5;124;43mearly_stop\u001b[39;49m\u001b[38;5;124;43m\"\u001b[39;49m\u001b[43m]\u001b[49m\u001b[43m,\u001b[49m\n\u001b[0;32m     12\u001b[0m \u001b[43m                \u001b[49m\u001b[43mmodel_name\u001b[49m\u001b[38;5;241;43m=\u001b[39;49m\u001b[43mCONFIG\u001b[49m\u001b[43m[\u001b[49m\u001b[38;5;124;43m\"\u001b[39;49m\u001b[38;5;124;43mmodel_name\u001b[39;49m\u001b[38;5;124;43m\"\u001b[39;49m\u001b[43m]\u001b[49m\u001b[43m)\u001b[49m\n",
      "File \u001b[1;32mc:\\Users\\linyi\\jmc4\\multigraph_integration_learning\\bio-gnn\\model.py:325\u001b[0m, in \u001b[0;36mBIO_GNN.train_model\u001b[1;34m(X, model_params, n_max_epochs, early_stop, model_name, random_sample_size, n_folds)\u001b[0m\n\u001b[0;32m    323\u001b[0m optimizer\u001b[38;5;241m.\u001b[39mzero_grad() \n\u001b[0;32m    324\u001b[0m curr_loss \u001b[38;5;241m=\u001b[39m torch\u001b[38;5;241m.\u001b[39mmean(torch\u001b[38;5;241m.\u001b[39mstack(losses))               \n\u001b[1;32m--> 325\u001b[0m \u001b[43mcurr_loss\u001b[49m\u001b[38;5;241;43m.\u001b[39;49m\u001b[43mbackward\u001b[49m\u001b[43m(\u001b[49m\u001b[43m)\u001b[49m                \n\u001b[0;32m    326\u001b[0m optimizer\u001b[38;5;241m.\u001b[39mstep()\n\u001b[0;32m    328\u001b[0m \u001b[38;5;66;03m#Track the loss\u001b[39;00m\n",
      "File \u001b[1;32mc:\\Users\\linyi\\AppData\\Local\\Programs\\Python\\Python311\\Lib\\site-packages\\torch\\_tensor.py:522\u001b[0m, in \u001b[0;36mTensor.backward\u001b[1;34m(self, gradient, retain_graph, create_graph, inputs)\u001b[0m\n\u001b[0;32m    512\u001b[0m \u001b[38;5;28;01mif\u001b[39;00m has_torch_function_unary(\u001b[38;5;28mself\u001b[39m):\n\u001b[0;32m    513\u001b[0m     \u001b[38;5;28;01mreturn\u001b[39;00m handle_torch_function(\n\u001b[0;32m    514\u001b[0m         Tensor\u001b[38;5;241m.\u001b[39mbackward,\n\u001b[0;32m    515\u001b[0m         (\u001b[38;5;28mself\u001b[39m,),\n\u001b[1;32m   (...)\u001b[0m\n\u001b[0;32m    520\u001b[0m         inputs\u001b[38;5;241m=\u001b[39minputs,\n\u001b[0;32m    521\u001b[0m     )\n\u001b[1;32m--> 522\u001b[0m \u001b[43mtorch\u001b[49m\u001b[38;5;241;43m.\u001b[39;49m\u001b[43mautograd\u001b[49m\u001b[38;5;241;43m.\u001b[39;49m\u001b[43mbackward\u001b[49m\u001b[43m(\u001b[49m\n\u001b[0;32m    523\u001b[0m \u001b[43m    \u001b[49m\u001b[38;5;28;43mself\u001b[39;49m\u001b[43m,\u001b[49m\u001b[43m \u001b[49m\u001b[43mgradient\u001b[49m\u001b[43m,\u001b[49m\u001b[43m \u001b[49m\u001b[43mretain_graph\u001b[49m\u001b[43m,\u001b[49m\u001b[43m \u001b[49m\u001b[43mcreate_graph\u001b[49m\u001b[43m,\u001b[49m\u001b[43m \u001b[49m\u001b[43minputs\u001b[49m\u001b[38;5;241;43m=\u001b[39;49m\u001b[43minputs\u001b[49m\n\u001b[0;32m    524\u001b[0m \u001b[43m\u001b[49m\u001b[43m)\u001b[49m\n",
      "File \u001b[1;32mc:\\Users\\linyi\\AppData\\Local\\Programs\\Python\\Python311\\Lib\\site-packages\\torch\\autograd\\__init__.py:266\u001b[0m, in \u001b[0;36mbackward\u001b[1;34m(tensors, grad_tensors, retain_graph, create_graph, grad_variables, inputs)\u001b[0m\n\u001b[0;32m    261\u001b[0m     retain_graph \u001b[38;5;241m=\u001b[39m create_graph\n\u001b[0;32m    263\u001b[0m \u001b[38;5;66;03m# The reason we repeat the same comment below is that\u001b[39;00m\n\u001b[0;32m    264\u001b[0m \u001b[38;5;66;03m# some Python versions print out the first line of a multi-line function\u001b[39;00m\n\u001b[0;32m    265\u001b[0m \u001b[38;5;66;03m# calls in the traceback and some print out the last line\u001b[39;00m\n\u001b[1;32m--> 266\u001b[0m \u001b[43mVariable\u001b[49m\u001b[38;5;241;43m.\u001b[39;49m\u001b[43m_execution_engine\u001b[49m\u001b[38;5;241;43m.\u001b[39;49m\u001b[43mrun_backward\u001b[49m\u001b[43m(\u001b[49m\u001b[43m  \u001b[49m\u001b[38;5;66;43;03m# Calls into the C++ engine to run the backward pass\u001b[39;49;00m\n\u001b[0;32m    267\u001b[0m \u001b[43m    \u001b[49m\u001b[43mtensors\u001b[49m\u001b[43m,\u001b[49m\n\u001b[0;32m    268\u001b[0m \u001b[43m    \u001b[49m\u001b[43mgrad_tensors_\u001b[49m\u001b[43m,\u001b[49m\n\u001b[0;32m    269\u001b[0m \u001b[43m    \u001b[49m\u001b[43mretain_graph\u001b[49m\u001b[43m,\u001b[49m\n\u001b[0;32m    270\u001b[0m \u001b[43m    \u001b[49m\u001b[43mcreate_graph\u001b[49m\u001b[43m,\u001b[49m\n\u001b[0;32m    271\u001b[0m \u001b[43m    \u001b[49m\u001b[43minputs\u001b[49m\u001b[43m,\u001b[49m\n\u001b[0;32m    272\u001b[0m \u001b[43m    \u001b[49m\u001b[43mallow_unreachable\u001b[49m\u001b[38;5;241;43m=\u001b[39;49m\u001b[38;5;28;43;01mTrue\u001b[39;49;00m\u001b[43m,\u001b[49m\n\u001b[0;32m    273\u001b[0m \u001b[43m    \u001b[49m\u001b[43maccumulate_grad\u001b[49m\u001b[38;5;241;43m=\u001b[39;49m\u001b[38;5;28;43;01mTrue\u001b[39;49;00m\u001b[43m,\u001b[49m\n\u001b[0;32m    274\u001b[0m \u001b[43m\u001b[49m\u001b[43m)\u001b[49m\n",
      "\u001b[1;31mKeyboardInterrupt\u001b[0m: "
     ]
    }
   ],
   "source": [
    "np.random.seed(35813)\n",
    "torch.manual_seed(35813)\n",
    "models = BIO_GNN.train_model(\n",
    "                CONFIG[\"X\"],\n",
    "                model_params=MODEL_PARAMS,\n",
    "                \n",
    "                \n",
    "                n_max_epochs=CONFIG[\"N_max_epochs\"],\n",
    "                n_folds=CONFIG[\"n_folds\"],\n",
    "                random_sample_size=CONFIG[\"random_sample_size\"],\n",
    "                early_stop=CONFIG[\"early_stop\"],\n",
    "                model_name=CONFIG[\"model_name\"])"
   ]
  }
 ],
 "metadata": {
  "kernelspec": {
   "display_name": "Python 3",
   "language": "python",
   "name": "python3"
  },
  "language_info": {
   "codemirror_mode": {
    "name": "ipython",
    "version": 3
   },
   "file_extension": ".py",
   "mimetype": "text/x-python",
   "name": "python",
   "nbconvert_exporter": "python",
   "pygments_lexer": "ipython3",
   "version": "3.11.3"
  }
 },
 "nbformat": 4,
 "nbformat_minor": 2
}
