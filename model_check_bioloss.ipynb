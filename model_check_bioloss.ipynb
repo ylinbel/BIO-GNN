{
 "cells": [
  {
   "cell_type": "code",
   "execution_count": 1,
   "metadata": {},
   "outputs": [],
   "source": [
    "import scipy\n",
    "import os\n",
    "import warnings\n",
    "import numpy as np\n",
    "from model import DGN\n",
    "from scipy.io import loadmat\n",
    "import matplotlib.pyplot as plt\n",
    "import torch.nn\n",
    "import contextlib\n",
    "import sys\n",
    "import helper\n",
    "\n",
    "\n",
    "plt.rcParams['font.family'] = 'serif'\n",
    "plt.rcParams['font.serif'] = ['DejaVu Serif', 'Arial', 'Liberation Serif']"
   ]
  },
  {
   "cell_type": "markdown",
   "metadata": {},
   "source": [
    "#### 1. inspect"
   ]
  },
  {
   "cell_type": "markdown",
   "metadata": {},
   "source": [
    "#### 2. data preprocessing"
   ]
  },
  {
   "cell_type": "code",
   "execution_count": 2,
   "metadata": {},
   "outputs": [],
   "source": [
    "def normalize_matrix(connectivity_matrix):\n",
    "    np.fill_diagonal(connectivity_matrix, 0)\n",
    "    connectivity_matrix[np.logical_or(np.isinf(connectivity_matrix), np.isnan(connectivity_matrix))] = 0\n",
    "    connectivity_matrix = connectivity_matrix.astype(float)\n",
    "    \n",
    "    return connectivity_matrix"
   ]
  },
  {
   "cell_type": "code",
   "execution_count": 3,
   "metadata": {},
   "outputs": [],
   "source": [
    "import scipy.io\n",
    "import numpy as np\n",
    "\n",
    "connectivity_matrices_asd = []\n",
    "\n",
    "for i in range(1, 155):\n",
    "    mat = scipy.io.loadmat(f'data_nc_asd_R/data_nc_asd_R/ASD_RH/RHASDSub{i}.mat')\n",
    "    connectivity_matrix = mat['views'][:, :, :]\n",
    "    connectivity_matrix = [normalize_matrix(mat) for mat in connectivity_matrix]\n",
    "    connectivity_matrices_asd.append(connectivity_matrix)\n",
    "\n",
    "connectivity_matrices_asd = np.stack(connectivity_matrices_asd)\n",
    "\n",
    "connectivity_matrices_control = []\n",
    "\n",
    "for i in range(1, 186):\n",
    "    mat = scipy.io.loadmat(f'data_nc_asd_R/data_nc_asd_R/NC_RH/RHNCSub{i}.mat')\n",
    "    connectivity_matrix = mat['views'][:, :, :]\n",
    "    connectivity_matrix = [normalize_matrix(mat) for mat in connectivity_matrix]\n",
    "    connectivity_matrices_control.append(connectivity_matrix)\n",
    "\n",
    "connectivity_matrices_control = np.stack(connectivity_matrices_control)\n"
   ]
  },
  {
   "cell_type": "code",
   "execution_count": 4,
   "metadata": {},
   "outputs": [],
   "source": [
    "warnings.filterwarnings(\"ignore\", category=UserWarning)"
   ]
  },
  {
   "cell_type": "markdown",
   "metadata": {},
   "source": [
    "#### 3. train DGN for ASD"
   ]
  },
  {
   "cell_type": "code",
   "execution_count": 5,
   "metadata": {},
   "outputs": [],
   "source": [
    "Dataset = \"E\" \n",
    "N_Subjects = 155\n",
    "N_Nodes = 35\n",
    "N_views = 6\n",
    "N_max_epochs = 500\n",
    "early_stop =  True\n",
    "random_sample_size = 10\n",
    "n_folds = 5\n",
    "lr = 0.001\n",
    "model_name = \"317\"\n",
    "\n",
    "#dimension of embeddings output by the first GDL layer (for each ROI)\n",
    "CONV1 = CONV2 = CONV3 = 8\n",
    "\n",
    "lambda_r = 200\n",
    "lambda_b = 50\n",
    "patience = 3\n",
    "convergence_threshold = 0.01\n",
    "\n",
    "#----------------------------------------------------------------------------#\n",
    "#----------------------------------------------------------------------------#\n",
    "#                 Below is not to be modified manually                       #\n",
    "#----------------------------------------------------------------------------#\n",
    "#----------------------------------------------------------------------------#\n",
    "\n",
    "import helper\n",
    "\n",
    "if Dataset.lower() not in [\"e\", \"E\", \"s\", \"S\"]:\n",
    "    raise ValueError(\"Dataset options are E or S.\")\n",
    "    \n",
    "if (Dataset.lower() == \"e\"):\n",
    "    X = connectivity_matrices_asd\n",
    "    N_Subjects = X.shape[0]\n",
    "    N_Nodes = X.shape[1]\n",
    "    N_views = X.shape[3]\n",
    "else:\n",
    "    X = helper.create_better_simulated(N_Subjects, N_Nodes) if N_views == 4 else helper.simulate_dataset(N_Subjects, N_Nodes, N_views)\n",
    "\n",
    "\n",
    "CONFIG = {\n",
    "        \"X\": X,\n",
    "        \"N_ROIs\":  X.shape[1],\n",
    "        \"N_views\":  X.shape[3],\n",
    "        \"N_max_epochs\": N_max_epochs,\n",
    "        \"n_folds\": n_folds,\n",
    "        \"random_sample_size\": random_sample_size,\n",
    "        \"early_stop\": early_stop,\n",
    "        \"model_name\": model_name\n",
    "    }\n",
    "\n",
    "MODEL_PARAMS = {\n",
    "        \"N_ROIs\": N_Nodes,\n",
    "        \"learning_rate\" : lr,\n",
    "        \"n_attr\": X.shape[3],\n",
    "        \"Linear1\" : {\"in\": N_views, \"out\": CONV1},\n",
    "        \"conv1\": {\"in\" : 1, \"out\": CONV1},\n",
    "        \n",
    "        \"Linear2\" : {\"in\": N_views, \"out\": CONV1*CONV2},\n",
    "        \"conv2\": {\"in\" : CONV1, \"out\": CONV2},\n",
    "        \n",
    "        \"Linear3\" : {\"in\": N_views, \"out\": CONV2*CONV3},\n",
    "        \"conv3\": {\"in\" : CONV2, \"out\": CONV3},\n",
    "        \"lambda_r\" : lambda_r,\n",
    "        \"lambda_b\" : lambda_b,\n",
    "        \"patience\" : patience,\n",
    "        \"convergence_threshold\" : convergence_threshold,\n",
    "    }"
   ]
  },
  {
   "cell_type": "code",
   "execution_count": 6,
   "metadata": {},
   "outputs": [
    {
     "name": "stdout",
     "output_type": "stream",
     "text": [
      "********* FOLD 0 *********\n"
     ]
    },
    {
     "ename": "",
     "evalue": "",
     "output_type": "error",
     "traceback": [
      "\u001b[1;31mThe Kernel crashed while executing code in the current cell or a previous cell. \n",
      "\u001b[1;31mPlease review the code in the cell(s) to identify a possible cause of the failure. \n",
      "\u001b[1;31mClick <a href='https://aka.ms/vscodeJupyterKernelCrash'>here</a> for more info. \n",
      "\u001b[1;31mView Jupyter <a href='command:jupyter.viewOutput'>log</a> for further details."
     ]
    }
   ],
   "source": [
    "# lambda2 = 50\n",
    "np.random.seed(35813)\n",
    "torch.manual_seed(35813)\n",
    "models = DGN.train_model(\n",
    "                CONFIG[\"X\"],\n",
    "                model_params=MODEL_PARAMS,\n",
    "                n_max_epochs=CONFIG[\"N_max_epochs\"],\n",
    "                n_folds=CONFIG[\"n_folds\"],\n",
    "                random_sample_size=CONFIG[\"random_sample_size\"],\n",
    "                early_stop=CONFIG[\"early_stop\"],\n",
    "                model_name=CONFIG[\"model_name\"])"
   ]
  }
 ],
 "metadata": {
  "kernelspec": {
   "display_name": "Python 3",
   "language": "python",
   "name": "python3"
  },
  "language_info": {
   "codemirror_mode": {
    "name": "ipython",
    "version": 3
   },
   "file_extension": ".py",
   "mimetype": "text/x-python",
   "name": "python",
   "nbconvert_exporter": "python",
   "pygments_lexer": "ipython3",
   "version": "3.11.3"
  }
 },
 "nbformat": 4,
 "nbformat_minor": 2
}
