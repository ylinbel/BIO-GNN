{
 "cells": [
  {
   "cell_type": "code",
   "execution_count": 12,
   "metadata": {},
   "outputs": [
    {
     "name": "stdout",
     "output_type": "stream",
     "text": [
      "REP values:\n",
      "[11.29338264465332,\n",
      " 11.27127456665039,\n",
      " 11.198742866516113,\n",
      " 11.113814353942871,\n",
      " 11.203180313110352]\n",
      "REP Stats:\n",
      "{'mean': 11.216078948974609, 'std': 0.0631622981459188}\n",
      "\n",
      "Memory Fingerprint values:\n",
      "[10.40259923101041,\n",
      " 10.422872616702476,\n",
      " 10.343906791569992,\n",
      " 10.395745019891908,\n",
      " 10.402433738925437]\n",
      "Memory Fingerprint Stats:\n",
      "{'mean': 10.393511479620045, 'std': 0.02641925088229446}\n",
      "\n",
      "Bio losses values:\n",
      "[0.608655385586121,\n",
      " 0.6051508977794896,\n",
      " 0.8409851211833083,\n",
      " 0.5714359639042547,\n",
      " 0.5666722037204793]\n",
      "Bio Losses Stats:\n",
      "{'mean': 0.6385799144347305, 'std': 0.10262540938119133}\n"
     ]
    }
   ],
   "source": [
    "import numpy as np\n",
    "import re\n",
    "from pprint import pprint\n",
    "\n",
    "def extract_values_and_stats(filename):\n",
    "    with open(filename, 'r') as file:\n",
    "        text = file.read()\n",
    "\n",
    "    # Regular expressions to find the REP, MEMORY FINGERPRINT, and bio losses values\n",
    "    rep_pattern = re.compile(r\"REP: ([\\d.]+)\")\n",
    "    memory_fingerprint_pattern = re.compile(r\"MEMORY FINGERPRINT: ([\\d.]+)\")\n",
    "    bio_losses_pattern = re.compile(r\"bio losses: ([\\d.]+)\")\n",
    "\n",
    "    # Find all matches in the text and convert them to floats\n",
    "    rep_values = np.array([float(value) for value in rep_pattern.findall(text)])\n",
    "    memory_fingerprint_values = np.array([float(value) for value in memory_fingerprint_pattern.findall(text)])\n",
    "    bio_losses_values = np.array([float(value) for value in bio_losses_pattern.findall(text)])\n",
    "\n",
    "    # Calculating mean and std for each list\n",
    "    rep_stats = {'mean': np.mean(rep_values), 'std': np.std(rep_values)}\n",
    "    memory_fingerprint_stats = {'mean': np.mean(memory_fingerprint_values), 'std': np.std(memory_fingerprint_values)}\n",
    "    bio_losses_stats = {'mean': np.mean(bio_losses_values), 'std': np.std(bio_losses_values)}\n",
    "\n",
    "    # Pretty print the values and their stats\n",
    "    print(\"REP values:\")\n",
    "    pprint(rep_values.tolist())\n",
    "    print(\"REP Stats:\")\n",
    "    pprint(rep_stats)\n",
    "\n",
    "    print(\"\\nMemory Fingerprint values:\")\n",
    "    pprint(memory_fingerprint_values.tolist())\n",
    "    print(\"Memory Fingerprint Stats:\")\n",
    "    pprint(memory_fingerprint_stats)\n",
    "\n",
    "    print(\"\\nBio losses values:\")\n",
    "    pprint(bio_losses_values.tolist())\n",
    "    print(\"Bio Losses Stats:\")\n",
    "    pprint(bio_losses_stats)\n",
    "\n",
    "extract_values_and_stats('file.txt')\n"
   ]
  }
 ],
 "metadata": {
  "kernelspec": {
   "display_name": "Python 3",
   "language": "python",
   "name": "python3"
  },
  "language_info": {
   "codemirror_mode": {
    "name": "ipython",
    "version": 3
   },
   "file_extension": ".py",
   "mimetype": "text/x-python",
   "name": "python",
   "nbconvert_exporter": "python",
   "pygments_lexer": "ipython3",
   "version": "3.11.3"
  }
 },
 "nbformat": 4,
 "nbformat_minor": 2
}
