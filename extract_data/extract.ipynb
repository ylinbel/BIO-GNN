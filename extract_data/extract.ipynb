{
 "cells": [
  {
   "cell_type": "code",
   "execution_count": 14,
   "metadata": {},
   "outputs": [
    {
     "name": "stdout",
     "output_type": "stream",
     "text": [
      "REP values:\n",
      "[12.47653579711914,\n",
      " 12.673457145690918,\n",
      " 12.812255859375,\n",
      " 12.474352836608887,\n",
      " 12.761418342590332]\n",
      "REP Stats:\n",
      "{'mean': 12.639603996276856, 'std': 0.14120383838440054}\n",
      "\n",
      "Memory Fingerprint values:\n",
      "[10.415333028179178,\n",
      " 10.414349433518751,\n",
      " 10.469053701408287,\n",
      " 10.422105378230311,\n",
      " 10.411162121838005]\n",
      "Memory Fingerprint Stats:\n",
      "{'mean': 10.426400732634907, 'std': 0.021622529759349803}\n",
      "\n",
      "Bio losses values:\n",
      "[0.379881023386933,\n",
      " 0.4260837661595995,\n",
      " 0.34780664485849694,\n",
      " 0.3739689594642556,\n",
      " 0.4077760233529894]\n",
      "Bio Losses Stats:\n",
      "{'mean': 0.3871032834444549, 'std': 0.02726073190118825}\n"
     ]
    }
   ],
   "source": [
    "import numpy as np\n",
    "import re\n",
    "from pprint import pprint\n",
    "\n",
    "def extract_values_and_stats(filename):\n",
    "    with open(filename, 'r') as file:\n",
    "        text = file.read()\n",
    "\n",
    "    # Regular expressions to find the REP, MEMORY FINGERPRINT, and bio losses values\n",
    "    rep_pattern = re.compile(r\"REP: ([\\d.]+)\")\n",
    "    memory_fingerprint_pattern = re.compile(r\"MEMORY FINGERPRINT: ([\\d.]+)\")\n",
    "    bio_losses_pattern = re.compile(r\"bio losses: ([\\d.]+)\")\n",
    "\n",
    "    # Find all matches in the text and convert them to floats\n",
    "    rep_values = np.array([float(value) for value in rep_pattern.findall(text)])\n",
    "    memory_fingerprint_values = np.array([float(value) for value in memory_fingerprint_pattern.findall(text)])\n",
    "    bio_losses_values = np.array([float(value) for value in bio_losses_pattern.findall(text)])\n",
    "\n",
    "    # Calculating mean and std for each list\n",
    "    rep_stats = {'mean': np.mean(rep_values), 'std': np.std(rep_values)}\n",
    "    memory_fingerprint_stats = {'mean': np.mean(memory_fingerprint_values), 'std': np.std(memory_fingerprint_values)}\n",
    "    bio_losses_stats = {'mean': np.mean(bio_losses_values), 'std': np.std(bio_losses_values)}\n",
    "\n",
    "    # Pretty print the values and their stats\n",
    "    print(\"REP values:\")\n",
    "    pprint(rep_values.tolist())\n",
    "    print(\"REP Stats:\")\n",
    "    pprint(rep_stats)\n",
    "\n",
    "    print(\"\\nMemory Fingerprint values:\")\n",
    "    pprint(memory_fingerprint_values.tolist())\n",
    "    print(\"Memory Fingerprint Stats:\")\n",
    "    pprint(memory_fingerprint_stats)\n",
    "\n",
    "    print(\"\\nBio losses values:\")\n",
    "    pprint(bio_losses_values.tolist())\n",
    "    print(\"Bio Losses Stats:\")\n",
    "    pprint(bio_losses_stats)\n",
    "\n",
    "extract_values_and_stats('file.txt')\n"
   ]
  },
  {
   "cell_type": "markdown",
   "metadata": {},
   "source": []
  }
 ],
 "metadata": {
  "kernelspec": {
   "display_name": "Python 3",
   "language": "python",
   "name": "python3"
  },
  "language_info": {
   "codemirror_mode": {
    "name": "ipython",
    "version": 3
   },
   "file_extension": ".py",
   "mimetype": "text/x-python",
   "name": "python",
   "nbconvert_exporter": "python",
   "pygments_lexer": "ipython3",
   "version": "3.11.3"
  }
 },
 "nbformat": 4,
 "nbformat_minor": 2
}
