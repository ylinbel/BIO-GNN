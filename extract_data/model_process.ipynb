{
 "cells": [
  {
   "cell_type": "code",
   "execution_count": 1,
   "metadata": {},
   "outputs": [],
   "source": [
    "import os\n",
    "import numpy as np\n",
    "from scipy.io import loadmat\n",
    "import matplotlib.pyplot as plt\n",
    "\n",
    "\n",
    "plt.rcParams['font.family'] = 'serif'\n",
    "plt.rcParams['font.serif'] = ['DejaVu Serif', 'Arial', 'Liberation Serif']"
   ]
  },
  {
   "cell_type": "code",
   "execution_count": 2,
   "metadata": {},
   "outputs": [],
   "source": [
    "cbt_nc_0 = np.load('./output/TWO_LOSSES_229_NCALL/fold0_cbt.npy')\n",
    "cbt_nc_1 = np.load('./output/TWO_LOSSES_229_NCALL/fold1_cbt.npy')\n",
    "cbt_nc_2 = np.load('./output/TWO_LOSSES_229_NCALL/fold2_cbt.npy')\n",
    "cbt_nc_3 = np.load('./output/TWO_LOSSES_229_NCALL/fold3_cbt.npy')\n",
    "cbt_nc_4 = np.load('./output/TWO_LOSSES_229_NCALL/fold4_cbt.npy')\n",
    "cbt_asd_0 = np.load('./output/TWO_LOSSES_ASD_229/fold0_cbt.npy')\n",
    "cbt_asd_1 = np.load('./output/TWO_LOSSES_ASD_229/fold1_cbt.npy')\n",
    "cbt_asd_2 = np.load('./output/TWO_LOSSES_ASD_229/fold2_cbt.npy')\n",
    "cbt_asd_3 = np.load('./output/TWO_LOSSES_ASD_229/fold3_cbt.npy')\n",
    "cbt_asd_4 = np.load('./output/TWO_LOSSES_ASD_229/fold4_cbt.npy')\n",
    "cbt_nc_test_0 = np.load('./output/TWO_LOSSES_229_NCALL_TEST/fold0_cbt.npy')\n",
    "cbt_nc_test_1 = np.load('./output/TWO_LOSSES_229_NCALL_TEST/fold1_cbt.npy')\n",
    "cbt_nc_test_2 = np.load('./output/TWO_LOSSES_229_NCALL_TEST/fold2_cbt.npy')\n",
    "cbt_nc_test_3 = np.load('./output/TWO_LOSSES_229_NCALL_TEST/fold3_cbt.npy')\n",
    "cbt_nc_test_4 = np.load('./output/TWO_LOSSES_229_NCALL_TEST/fold4_cbt.npy')\n",
    "cbt_asd_test_0 = np.load('./output/TWO_LOSSES_229_ASDALL_TEST/fold0_cbt.npy')\n",
    "cbt_asd_test_1 = np.load('./output/TWO_LOSSES_229_ASDALL_TEST/fold1_cbt.npy')\n",
    "cbt_asd_test_2 = np.load('./output/TWO_LOSSES_229_ASDALL_TEST/fold2_cbt.npy')\n",
    "cbt_asd_test_3 = np.load('./output/TWO_LOSSES_229_ASDALL_TEST/fold3_cbt.npy')\n",
    "cbt_asd_test_4 = np.load('./output/TWO_LOSSES_229_ASDALL_TEST/fold4_cbt.npy')"
   ]
  },
  {
   "cell_type": "code",
   "execution_count": 3,
   "metadata": {},
   "outputs": [],
   "source": [
    "cbt_nc_0 = np.load('./output/ADHD_THREE_LOSS_TRAIN/fold0_cbt.npy')\n",
    "cbt_nc_1 = np.load('./output/ADHD_THREE_LOSS_TRAIN/fold1_cbt.npy')\n",
    "cbt_nc_2 = np.load('./output/ADHD_THREE_LOSS_TRAIN/fold2_cbt.npy')\n",
    "cbt_nc_3 = np.load('./output/ADHD_THREE_LOSS_TRAIN/fold3_cbt.npy')\n",
    "cbt_nc_4 = np.load('./output/ADHD_THREE_LOSS_TRAIN/fold4_cbt.npy')\n",
    "cbt_asd_0 = np.load('./output/LMCI_THREE_LOSS_TRAIN/fold0_cbt.npy')\n",
    "cbt_asd_1 = np.load('./output/LMCI_THREE_LOSS_TRAIN/fold1_cbt.npy')\n",
    "cbt_asd_2 = np.load('./output/LMCI_THREE_LOSS_TRAIN/fold2_cbt.npy')\n",
    "cbt_asd_3 = np.load('./output/LMCI_THREE_LOSS_TRAIN/fold3_cbt.npy')\n",
    "cbt_asd_4 = np.load('./output/LMCI_THREE_LOSS_TRAIN/fold4_cbt.npy')\n",
    "cbt_nc_test_0 = np.load('./output/ADHD_THREE_LOSS_TEST/fold0_cbt.npy')\n",
    "cbt_nc_test_1 = np.load('./output/ADHD_THREE_LOSS_TEST/fold1_cbt.npy')\n",
    "cbt_nc_test_2 = np.load('./output/ADHD_THREE_LOSS_TEST/fold2_cbt.npy')\n",
    "cbt_nc_test_3 = np.load('./output/ADHD_THREE_LOSS_TEST/fold3_cbt.npy')\n",
    "cbt_nc_test_4 = np.load('./output/ADHD_THREE_LOSS_TEST/fold4_cbt.npy')\n",
    "cbt_asd_test_0 = np.load('./output/LMCI_THREE_LOSS_TEST/fold0_cbt.npy')\n",
    "cbt_asd_test_1 = np.load('./output/LMCI_THREE_LOSS_TEST/fold1_cbt.npy')\n",
    "cbt_asd_test_2 = np.load('./output/LMCI_THREE_LOSS_TEST/fold2_cbt.npy')\n",
    "cbt_asd_test_3 = np.load('./output/LMCI_THREE_LOSS_TEST/fold3_cbt.npy')\n",
    "cbt_asd_test_4 = np.load('./output/LMCI_THREE_LOSS_TEST/fold3_cbt.npy')"
   ]
  },
  {
   "cell_type": "code",
   "execution_count": 4,
   "metadata": {},
   "outputs": [],
   "source": [
    "def vectorize(A):\n",
    "    symmetric_matrix = (A + A.T)/2\n",
    "    upper_triangle = np.triu(symmetric_matrix, k=1)\n",
    "    vectorized_form = upper_triangle[upper_triangle != 0]\n",
    "    return vectorized_form"
   ]
  },
  {
   "cell_type": "code",
   "execution_count": 5,
   "metadata": {},
   "outputs": [],
   "source": [
    "vectorized_nc_0 = vectorize(cbt_nc_0)\n",
    "vectorized_nc_1 = vectorize(cbt_nc_1)\n",
    "vectorized_nc_2 = vectorize(cbt_nc_2)\n",
    "vectorized_nc_3 = vectorize(cbt_nc_3)\n",
    "vectorized_nc_4 = vectorize(cbt_nc_4)\n",
    "\n",
    "vectorized_asd_0 = vectorize(cbt_asd_0)\n",
    "vectorized_asd_1 = vectorize(cbt_asd_1)\n",
    "vectorized_asd_2 = vectorize(cbt_asd_2)\n",
    "vectorized_asd_3 = vectorize(cbt_asd_3)\n",
    "vectorized_asd_4 = vectorize(cbt_asd_4)\n",
    "\n",
    "vectorized_nc_test_0 = vectorize(cbt_nc_test_0)\n",
    "vectorized_nc_test_1 = vectorize(cbt_nc_test_1)\n",
    "vectorized_nc_test_2 = vectorize(cbt_nc_test_2)\n",
    "vectorized_nc_test_3 = vectorize(cbt_nc_test_3)\n",
    "vectorized_nc_test_4 = vectorize(cbt_nc_test_4)\n",
    "\n",
    "vectorized_asd_test_0 = vectorize(cbt_asd_test_0)\n",
    "vectorized_asd_test_1 = vectorize(cbt_asd_test_1)\n",
    "vectorized_asd_test_2 = vectorize(cbt_asd_test_2)\n",
    "vectorized_asd_test_3 = vectorize(cbt_asd_test_3)\n",
    "vectorized_asd_test_4 = vectorize(cbt_asd_test_4)"
   ]
  },
  {
   "cell_type": "code",
   "execution_count": 11,
   "metadata": {},
   "outputs": [
    {
     "name": "stdout",
     "output_type": "stream",
     "text": [
      "Accuracy: 0.601010101010101\n",
      "Sensitivity: 0.8451178451178452\n",
      "Specificity: 0.3569023569023569\n",
      "F1 Score: 0.6792963464140731\n",
      "AUC Score: 0.5883016472242062\n"
     ]
    }
   ],
   "source": [
    "from sklearn.metrics import accuracy_score, confusion_matrix, classification_report, f1_score, roc_auc_score\n",
    "from sklearn.svm import SVC\n",
    "import numpy as np\n",
    "\n",
    "\n",
    "# Combine and reshape data for training and testing\n",
    "train_data1 = vectorized_nc_0.reshape(-1, 1)\n",
    "train_data2 = vectorized_asd_0.reshape(-1, 1)\n",
    "test_data1 = vectorized_nc_test_0.reshape(-1, 1)\n",
    "test_data2 = vectorized_asd_test_0.reshape(-1, 1)\n",
    "\n",
    "# Labels\n",
    "y_train = np.array([0]*594 + [1]*594)  # 0 for group 1 (NC), 1 for group 2 (ASD)\n",
    "y_test = np.array([0]*594 + [1]*594)\n",
    "\n",
    "# Combine data for training and testing\n",
    "X_train = np.vstack((train_data1, train_data2))\n",
    "X_test = np.vstack((test_data1, test_data2))\n",
    "\n",
    "# Train the SVM\n",
    "clf = SVC(kernel='linear', class_weight='balanced', probability=True)  # Enable probability for AUC\n",
    "clf.fit(X_train, y_train)\n",
    "\n",
    "# Predict on testing set and calculate metrics\n",
    "y_pred = clf.predict(X_test)\n",
    "y_prob = clf.decision_function(X_test)  # Get decision function for AUC\n",
    "\n",
    "# Basic evaluations\n",
    "accuracy = accuracy_score(y_test, y_pred)\n",
    "f1 = f1_score(y_test, y_pred)\n",
    "auc = roc_auc_score(y_test, y_prob)  # AUC calculation\n",
    "\n",
    "# Detailed evaluations\n",
    "tn, fp, fn, tp = confusion_matrix(y_test, y_pred).ravel()\n",
    "sensitivity = tp / (tp + fn)\n",
    "specificity = tn / (tn + fp)\n",
    "\n",
    "# Print metrics\n",
    "print(f'Accuracy: {accuracy}')\n",
    "print(f'Sensitivity: {sensitivity}')\n",
    "print(f'Specificity: {specificity}')\n",
    "print(f'F1 Score: {f1}')  # Print F1 score\n",
    "print(f'AUC Score: {auc}')  # Print AUC score"
   ]
  }
 ],
 "metadata": {
  "kernelspec": {
   "display_name": "Python 3",
   "language": "python",
   "name": "python3"
  },
  "language_info": {
   "codemirror_mode": {
    "name": "ipython",
    "version": 3
   },
   "file_extension": ".py",
   "mimetype": "text/x-python",
   "name": "python",
   "nbconvert_exporter": "python",
   "pygments_lexer": "ipython3",
   "version": "3.11.3"
  }
 },
 "nbformat": 4,
 "nbformat_minor": 2
}
