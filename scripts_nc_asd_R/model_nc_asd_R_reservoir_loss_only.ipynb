{
 "cells": [
  {
   "cell_type": "code",
   "execution_count": 9,
   "metadata": {},
   "outputs": [],
   "source": [
    "import scipy\n",
    "import os\n",
    "import warnings\n",
    "import numpy as np\n",
    "from model import DGN\n",
    "from scipy.io import loadmat\n",
    "import matplotlib.pyplot as plt\n",
    "import torch.nn\n",
    "import contextlib\n",
    "import sys\n",
    "import helper\n",
    "\n",
    "\n",
    "plt.rcParams['font.family'] = 'serif'\n",
    "plt.rcParams['font.serif'] = ['DejaVu Serif', 'Arial', 'Liberation Serif']"
   ]
  },
  {
   "cell_type": "markdown",
   "metadata": {},
   "source": [
    "#### 1. inspect"
   ]
  },
  {
   "cell_type": "markdown",
   "metadata": {},
   "source": [
    "#### 2. data preprocessing"
   ]
  },
  {
   "cell_type": "code",
   "execution_count": 10,
   "metadata": {},
   "outputs": [],
   "source": [
    "def normalize_matrix(connectivity_matrix):\n",
    "    np.fill_diagonal(connectivity_matrix, 0)\n",
    "    connectivity_matrix[np.logical_or(np.isinf(connectivity_matrix), np.isnan(connectivity_matrix))] = 0\n",
    "    connectivity_matrix = connectivity_matrix.astype(float)\n",
    "    \n",
    "    return connectivity_matrix"
   ]
  },
  {
   "cell_type": "code",
   "execution_count": 11,
   "metadata": {},
   "outputs": [],
   "source": [
    "import scipy.io\n",
    "import numpy as np\n",
    "\n",
    "connectivity_matrices_asd = []\n",
    "\n",
    "for i in range(1, 155):\n",
    "    mat = scipy.io.loadmat(f'data_nc_asd_R/data_nc_asd_R/ASD_RH/RHASDSub{i}.mat')\n",
    "    connectivity_matrix = mat['views'][:, :, :]\n",
    "    connectivity_matrix = [normalize_matrix(mat) for mat in connectivity_matrix]\n",
    "    connectivity_matrices_asd.append(connectivity_matrix)\n",
    "\n",
    "connectivity_matrices_asd = np.stack(connectivity_matrices_asd)\n",
    "\n",
    "connectivity_matrices_control = []\n",
    "\n",
    "for i in range(1, 186):\n",
    "    mat = scipy.io.loadmat(f'data_nc_asd_R/data_nc_asd_R/NC_RH/RHNCSub{i}.mat')\n",
    "    connectivity_matrix = mat['views'][:, :, :]\n",
    "    connectivity_matrix = [normalize_matrix(mat) for mat in connectivity_matrix]\n",
    "    connectivity_matrices_control.append(connectivity_matrix)\n",
    "\n",
    "connectivity_matrices_control = np.stack(connectivity_matrices_control)\n"
   ]
  },
  {
   "cell_type": "code",
   "execution_count": 12,
   "metadata": {},
   "outputs": [],
   "source": [
    "warnings.filterwarnings(\"ignore\", category=UserWarning)"
   ]
  },
  {
   "cell_type": "markdown",
   "metadata": {},
   "source": [
    "#### 3. train DGN for ASD"
   ]
  },
  {
   "cell_type": "code",
   "execution_count": 16,
   "metadata": {},
   "outputs": [],
   "source": [
    "Dataset = \"E\" \n",
    "N_Subjects = 186\n",
    "N_Nodes = 35\n",
    "N_views = 6\n",
    "N_max_epochs = 500\n",
    "early_stop =  True\n",
    "random_sample_size = 10\n",
    "n_folds = 5\n",
    "lr = 0.001\n",
    "model_name = \"NC_RH_reservoir_loss_0406_rerun\"\n",
    "\n",
    "#dimension of embeddings output by the first GDL layer (for each ROI)\n",
    "CONV1 = CONV2 = CONV3 = 8\n",
    "\n",
    "lambda_r = 200\n",
    "lambda_b = 0\n",
    "patience = 6\n",
    "convergence_threshold = 0.01\n",
    "\n",
    "#----------------------------------------------------------------------------#\n",
    "#----------------------------------------------------------------------------#\n",
    "#                 Below is not to be modified manually                       #\n",
    "#----------------------------------------------------------------------------#\n",
    "#----------------------------------------------------------------------------#\n",
    "\n",
    "import helper\n",
    "\n",
    "if Dataset.lower() not in [\"e\", \"E\", \"s\", \"S\"]:\n",
    "    raise ValueError(\"Dataset options are E or S.\")\n",
    "    \n",
    "if (Dataset.lower() == \"e\"):\n",
    "    X = connectivity_matrices_control\n",
    "    N_Subjects = X.shape[0]\n",
    "    N_Nodes = X.shape[1]\n",
    "    N_views = X.shape[3]\n",
    "else:\n",
    "    X = helper.create_better_simulated(N_Subjects, N_Nodes) if N_views == 4 else helper.simulate_dataset(N_Subjects, N_Nodes, N_views)\n",
    "\n",
    "\n",
    "CONFIG = {\n",
    "        \"X\": X,\n",
    "        \"N_ROIs\":  X.shape[1],\n",
    "        \"N_views\":  X.shape[3],\n",
    "        \"N_max_epochs\": N_max_epochs,\n",
    "        \"n_folds\": n_folds,\n",
    "        \"random_sample_size\": random_sample_size,\n",
    "        \"early_stop\": early_stop,\n",
    "        \"model_name\": model_name\n",
    "    }\n",
    "\n",
    "MODEL_PARAMS = {\n",
    "        \"N_ROIs\": N_Nodes,\n",
    "        \"learning_rate\" : lr,\n",
    "        \"n_attr\": X.shape[3],\n",
    "        \"Linear1\" : {\"in\": N_views, \"out\": CONV1},\n",
    "        \"conv1\": {\"in\" : 1, \"out\": CONV1},\n",
    "        \n",
    "        \"Linear2\" : {\"in\": N_views, \"out\": CONV1*CONV2},\n",
    "        \"conv2\": {\"in\" : CONV1, \"out\": CONV2},\n",
    "        \n",
    "        \"Linear3\" : {\"in\": N_views, \"out\": CONV2*CONV3},\n",
    "        \"conv3\": {\"in\" : CONV2, \"out\": CONV3},\n",
    "        \"lambda_r\" : lambda_r,\n",
    "        \"lambda_b\" : lambda_b,\n",
    "        \"patience\" : patience,\n",
    "        \"convergence_threshold\" : convergence_threshold,\n",
    "    }"
   ]
  },
  {
   "cell_type": "code",
   "execution_count": 17,
   "metadata": {},
   "outputs": [
    {
     "name": "stdout",
     "output_type": "stream",
     "text": [
      "lambda r 200.0 lambda b 0.0\n",
      "********* FOLD 0 *********\n",
      "Epoch: 0  |  cbt loss : 26.61 | reservoir loss : 0.0935 | bio loss : 0.00000 | total loss: 30.35 | median cbt mc 9.68 | Time Elapsed: 6.03 | \n"
     ]
    },
    {
     "ename": "KeyboardInterrupt",
     "evalue": "",
     "output_type": "error",
     "traceback": [
      "\u001b[1;31m---------------------------------------------------------------------------\u001b[0m",
      "\u001b[1;31mKeyboardInterrupt\u001b[0m                         Traceback (most recent call last)",
      "Cell \u001b[1;32mIn[17], line 4\u001b[0m\n\u001b[0;32m      2\u001b[0m np\u001b[38;5;241m.\u001b[39mrandom\u001b[38;5;241m.\u001b[39mseed(\u001b[38;5;241m35813\u001b[39m)\n\u001b[0;32m      3\u001b[0m torch\u001b[38;5;241m.\u001b[39mmanual_seed(\u001b[38;5;241m35813\u001b[39m)\n\u001b[1;32m----> 4\u001b[0m models \u001b[38;5;241m=\u001b[39m \u001b[43mDGN\u001b[49m\u001b[38;5;241;43m.\u001b[39;49m\u001b[43mtrain_model\u001b[49m\u001b[43m(\u001b[49m\n\u001b[0;32m      5\u001b[0m \u001b[43m                \u001b[49m\u001b[43mCONFIG\u001b[49m\u001b[43m[\u001b[49m\u001b[38;5;124;43m\"\u001b[39;49m\u001b[38;5;124;43mX\u001b[39;49m\u001b[38;5;124;43m\"\u001b[39;49m\u001b[43m]\u001b[49m\u001b[43m,\u001b[49m\n\u001b[0;32m      6\u001b[0m \u001b[43m                \u001b[49m\u001b[43mmodel_params\u001b[49m\u001b[38;5;241;43m=\u001b[39;49m\u001b[43mMODEL_PARAMS\u001b[49m\u001b[43m,\u001b[49m\n\u001b[0;32m      7\u001b[0m \u001b[43m                \u001b[49m\u001b[43mn_max_epochs\u001b[49m\u001b[38;5;241;43m=\u001b[39;49m\u001b[43mCONFIG\u001b[49m\u001b[43m[\u001b[49m\u001b[38;5;124;43m\"\u001b[39;49m\u001b[38;5;124;43mN_max_epochs\u001b[39;49m\u001b[38;5;124;43m\"\u001b[39;49m\u001b[43m]\u001b[49m\u001b[43m,\u001b[49m\n\u001b[0;32m      8\u001b[0m \u001b[43m                \u001b[49m\u001b[43mn_folds\u001b[49m\u001b[38;5;241;43m=\u001b[39;49m\u001b[43mCONFIG\u001b[49m\u001b[43m[\u001b[49m\u001b[38;5;124;43m\"\u001b[39;49m\u001b[38;5;124;43mn_folds\u001b[39;49m\u001b[38;5;124;43m\"\u001b[39;49m\u001b[43m]\u001b[49m\u001b[43m,\u001b[49m\n\u001b[0;32m      9\u001b[0m \u001b[43m                \u001b[49m\u001b[43mrandom_sample_size\u001b[49m\u001b[38;5;241;43m=\u001b[39;49m\u001b[43mCONFIG\u001b[49m\u001b[43m[\u001b[49m\u001b[38;5;124;43m\"\u001b[39;49m\u001b[38;5;124;43mrandom_sample_size\u001b[39;49m\u001b[38;5;124;43m\"\u001b[39;49m\u001b[43m]\u001b[49m\u001b[43m,\u001b[49m\n\u001b[0;32m     10\u001b[0m \u001b[43m                \u001b[49m\u001b[43mearly_stop\u001b[49m\u001b[38;5;241;43m=\u001b[39;49m\u001b[43mCONFIG\u001b[49m\u001b[43m[\u001b[49m\u001b[38;5;124;43m\"\u001b[39;49m\u001b[38;5;124;43mearly_stop\u001b[39;49m\u001b[38;5;124;43m\"\u001b[39;49m\u001b[43m]\u001b[49m\u001b[43m,\u001b[49m\n\u001b[0;32m     11\u001b[0m \u001b[43m                \u001b[49m\u001b[43mmodel_name\u001b[49m\u001b[38;5;241;43m=\u001b[39;49m\u001b[43mCONFIG\u001b[49m\u001b[43m[\u001b[49m\u001b[38;5;124;43m\"\u001b[39;49m\u001b[38;5;124;43mmodel_name\u001b[39;49m\u001b[38;5;124;43m\"\u001b[39;49m\u001b[43m]\u001b[49m\u001b[43m)\u001b[49m\n",
      "File \u001b[1;32mc:\\Users\\linyi\\jmc4\\multigraph_integration_learning\\new_model\\model.py:335\u001b[0m, in \u001b[0;36mDGN.train_model\u001b[1;34m(X, model_params, n_max_epochs, early_stop, model_name, random_sample_size, n_folds)\u001b[0m\n\u001b[0;32m    333\u001b[0m optimizer\u001b[38;5;241m.\u001b[39mzero_grad() \n\u001b[0;32m    334\u001b[0m curr_loss \u001b[38;5;241m=\u001b[39m torch\u001b[38;5;241m.\u001b[39mmean(torch\u001b[38;5;241m.\u001b[39mstack(losses))               \n\u001b[1;32m--> 335\u001b[0m \u001b[43mcurr_loss\u001b[49m\u001b[38;5;241;43m.\u001b[39;49m\u001b[43mbackward\u001b[49m\u001b[43m(\u001b[49m\u001b[43m)\u001b[49m                \n\u001b[0;32m    336\u001b[0m optimizer\u001b[38;5;241m.\u001b[39mstep()\n\u001b[0;32m    338\u001b[0m \u001b[38;5;66;03m#Track the loss\u001b[39;00m\n",
      "File \u001b[1;32mc:\\Users\\linyi\\AppData\\Local\\Programs\\Python\\Python311\\Lib\\site-packages\\torch\\_tensor.py:522\u001b[0m, in \u001b[0;36mTensor.backward\u001b[1;34m(self, gradient, retain_graph, create_graph, inputs)\u001b[0m\n\u001b[0;32m    512\u001b[0m \u001b[38;5;28;01mif\u001b[39;00m has_torch_function_unary(\u001b[38;5;28mself\u001b[39m):\n\u001b[0;32m    513\u001b[0m     \u001b[38;5;28;01mreturn\u001b[39;00m handle_torch_function(\n\u001b[0;32m    514\u001b[0m         Tensor\u001b[38;5;241m.\u001b[39mbackward,\n\u001b[0;32m    515\u001b[0m         (\u001b[38;5;28mself\u001b[39m,),\n\u001b[1;32m   (...)\u001b[0m\n\u001b[0;32m    520\u001b[0m         inputs\u001b[38;5;241m=\u001b[39minputs,\n\u001b[0;32m    521\u001b[0m     )\n\u001b[1;32m--> 522\u001b[0m \u001b[43mtorch\u001b[49m\u001b[38;5;241;43m.\u001b[39;49m\u001b[43mautograd\u001b[49m\u001b[38;5;241;43m.\u001b[39;49m\u001b[43mbackward\u001b[49m\u001b[43m(\u001b[49m\n\u001b[0;32m    523\u001b[0m \u001b[43m    \u001b[49m\u001b[38;5;28;43mself\u001b[39;49m\u001b[43m,\u001b[49m\u001b[43m \u001b[49m\u001b[43mgradient\u001b[49m\u001b[43m,\u001b[49m\u001b[43m \u001b[49m\u001b[43mretain_graph\u001b[49m\u001b[43m,\u001b[49m\u001b[43m \u001b[49m\u001b[43mcreate_graph\u001b[49m\u001b[43m,\u001b[49m\u001b[43m \u001b[49m\u001b[43minputs\u001b[49m\u001b[38;5;241;43m=\u001b[39;49m\u001b[43minputs\u001b[49m\n\u001b[0;32m    524\u001b[0m \u001b[43m\u001b[49m\u001b[43m)\u001b[49m\n",
      "File \u001b[1;32mc:\\Users\\linyi\\AppData\\Local\\Programs\\Python\\Python311\\Lib\\site-packages\\torch\\autograd\\__init__.py:266\u001b[0m, in \u001b[0;36mbackward\u001b[1;34m(tensors, grad_tensors, retain_graph, create_graph, grad_variables, inputs)\u001b[0m\n\u001b[0;32m    261\u001b[0m     retain_graph \u001b[38;5;241m=\u001b[39m create_graph\n\u001b[0;32m    263\u001b[0m \u001b[38;5;66;03m# The reason we repeat the same comment below is that\u001b[39;00m\n\u001b[0;32m    264\u001b[0m \u001b[38;5;66;03m# some Python versions print out the first line of a multi-line function\u001b[39;00m\n\u001b[0;32m    265\u001b[0m \u001b[38;5;66;03m# calls in the traceback and some print out the last line\u001b[39;00m\n\u001b[1;32m--> 266\u001b[0m \u001b[43mVariable\u001b[49m\u001b[38;5;241;43m.\u001b[39;49m\u001b[43m_execution_engine\u001b[49m\u001b[38;5;241;43m.\u001b[39;49m\u001b[43mrun_backward\u001b[49m\u001b[43m(\u001b[49m\u001b[43m  \u001b[49m\u001b[38;5;66;43;03m# Calls into the C++ engine to run the backward pass\u001b[39;49;00m\n\u001b[0;32m    267\u001b[0m \u001b[43m    \u001b[49m\u001b[43mtensors\u001b[49m\u001b[43m,\u001b[49m\n\u001b[0;32m    268\u001b[0m \u001b[43m    \u001b[49m\u001b[43mgrad_tensors_\u001b[49m\u001b[43m,\u001b[49m\n\u001b[0;32m    269\u001b[0m \u001b[43m    \u001b[49m\u001b[43mretain_graph\u001b[49m\u001b[43m,\u001b[49m\n\u001b[0;32m    270\u001b[0m \u001b[43m    \u001b[49m\u001b[43mcreate_graph\u001b[49m\u001b[43m,\u001b[49m\n\u001b[0;32m    271\u001b[0m \u001b[43m    \u001b[49m\u001b[43minputs\u001b[49m\u001b[43m,\u001b[49m\n\u001b[0;32m    272\u001b[0m \u001b[43m    \u001b[49m\u001b[43mallow_unreachable\u001b[49m\u001b[38;5;241;43m=\u001b[39;49m\u001b[38;5;28;43;01mTrue\u001b[39;49;00m\u001b[43m,\u001b[49m\n\u001b[0;32m    273\u001b[0m \u001b[43m    \u001b[49m\u001b[43maccumulate_grad\u001b[49m\u001b[38;5;241;43m=\u001b[39;49m\u001b[38;5;28;43;01mTrue\u001b[39;49;00m\u001b[43m,\u001b[49m\n\u001b[0;32m    274\u001b[0m \u001b[43m\u001b[49m\u001b[43m)\u001b[49m\n",
      "\u001b[1;31mKeyboardInterrupt\u001b[0m: "
     ]
    }
   ],
   "source": [
    "# lambda2 = 10\n",
    "np.random.seed(35813)\n",
    "torch.manual_seed(35813)\n",
    "models = DGN.train_model(\n",
    "                CONFIG[\"X\"],\n",
    "                model_params=MODEL_PARAMS,\n",
    "                n_max_epochs=CONFIG[\"N_max_epochs\"],\n",
    "                n_folds=CONFIG[\"n_folds\"],\n",
    "                random_sample_size=CONFIG[\"random_sample_size\"],\n",
    "                early_stop=CONFIG[\"early_stop\"],\n",
    "                model_name=CONFIG[\"model_name\"])"
   ]
  }
 ],
 "metadata": {
  "kernelspec": {
   "display_name": "Python 3",
   "language": "python",
   "name": "python3"
  },
  "language_info": {
   "codemirror_mode": {
    "name": "ipython",
    "version": 3
   },
   "file_extension": ".py",
   "mimetype": "text/x-python",
   "name": "python",
   "nbconvert_exporter": "python",
   "pygments_lexer": "ipython3",
   "version": "3.11.3"
  }
 },
 "nbformat": 4,
 "nbformat_minor": 2
}
